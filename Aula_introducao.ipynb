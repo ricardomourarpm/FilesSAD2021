{
 "cells": [
  {
   "cell_type": "markdown",
   "metadata": {},
   "source": [
    "Aqui podemos ver uma breve apresentação de como começar a usar python.\n",
    "Duas das bibliotecas mais utilizadas são o numpy e o matplotlib.\n",
    "O numpy para efetuar cálculos numéricos e o matplotlib para criar gráficos."
   ]
  },
  {
   "cell_type": "code",
   "execution_count": 22,
   "metadata": {},
   "outputs": [],
   "source": [
    "import numpy as np # numpy permite usar multiplas funções\n",
    "import matplotlib.pyplot as plt # matplotlib - bibliteca de visualização muito utilizada"
   ]
  },
  {
   "cell_type": "markdown",
   "metadata": {},
   "source": [
    "Usa-se o from quando apenas queremos importar certas partes duma biblioteca.\n",
    "Aqui usámo-lo para apenas carregar o dataset do Sciki-Learn (bibloteca importante para Data Science)"
   ]
  },
  {
   "cell_type": "code",
   "execution_count": 23,
   "metadata": {},
   "outputs": [],
   "source": [
    "from sklearn import datasets # sklearn - Scikit-Learn é uma biblioteca cheia de algoritmos que servirão esta cadeira\n"
   ]
  },
  {
   "cell_type": "markdown",
   "metadata": {},
   "source": [
    "Carregamos o dataset Iris, cuja especificação poderá ser analisada. \n",
    "\n",
    "Como contem muita informação, vamos apenas extrair os dados."
   ]
  },
  {
   "cell_type": "code",
   "execution_count": 24,
   "metadata": {},
   "outputs": [
    {
     "name": "stdout",
     "output_type": "stream",
     "text": [
      "['data', 'target', 'frame', 'target_names', 'DESCR', 'feature_names', 'filename']\n"
     ]
    }
   ],
   "source": [
    "iris = datasets.load_iris() # carregar a base de dados iris\n",
    "\n",
    "print(list(iris))"
   ]
  },
  {
   "cell_type": "code",
   "execution_count": 25,
   "metadata": {},
   "outputs": [
    {
     "name": "stdout",
     "output_type": "stream",
     "text": [
      ".. _iris_dataset:\n",
      "\n",
      "Iris plants dataset\n",
      "--------------------\n",
      "\n",
      "**Data Set Characteristics:**\n",
      "\n",
      "    :Number of Instances: 150 (50 in each of three classes)\n",
      "    :Number of Attributes: 4 numeric, predictive attributes and the class\n",
      "    :Attribute Information:\n",
      "        - sepal length in cm\n",
      "        - sepal width in cm\n",
      "        - petal length in cm\n",
      "        - petal width in cm\n",
      "        - class:\n",
      "                - Iris-Setosa\n",
      "                - Iris-Versicolour\n",
      "                - Iris-Virginica\n",
      "                \n",
      "    :Summary Statistics:\n",
      "\n",
      "    ============== ==== ==== ======= ===== ====================\n",
      "                    Min  Max   Mean    SD   Class Correlation\n",
      "    ============== ==== ==== ======= ===== ====================\n",
      "    sepal length:   4.3  7.9   5.84   0.83    0.7826\n",
      "    sepal width:    2.0  4.4   3.05   0.43   -0.4194\n",
      "    petal length:   1.0  6.9   3.76   1.76    0.9490  (high!)\n",
      "    petal width:    0.1  2.5   1.20   0.76    0.9565  (high!)\n",
      "    ============== ==== ==== ======= ===== ====================\n",
      "\n",
      "    :Missing Attribute Values: None\n",
      "    :Class Distribution: 33.3% for each of 3 classes.\n",
      "    :Creator: R.A. Fisher\n",
      "    :Donor: Michael Marshall (MARSHALL%PLU@io.arc.nasa.gov)\n",
      "    :Date: July, 1988\n",
      "\n",
      "The famous Iris database, first used by Sir R.A. Fisher. The dataset is taken\n",
      "from Fisher's paper. Note that it's the same as in R, but not as in the UCI\n",
      "Machine Learning Repository, which has two wrong data points.\n",
      "\n",
      "This is perhaps the best known database to be found in the\n",
      "pattern recognition literature.  Fisher's paper is a classic in the field and\n",
      "is referenced frequently to this day.  (See Duda & Hart, for example.)  The\n",
      "data set contains 3 classes of 50 instances each, where each class refers to a\n",
      "type of iris plant.  One class is linearly separable from the other 2; the\n",
      "latter are NOT linearly separable from each other.\n",
      "\n",
      ".. topic:: References\n",
      "\n",
      "   - Fisher, R.A. \"The use of multiple measurements in taxonomic problems\"\n",
      "     Annual Eugenics, 7, Part II, 179-188 (1936); also in \"Contributions to\n",
      "     Mathematical Statistics\" (John Wiley, NY, 1950).\n",
      "   - Duda, R.O., & Hart, P.E. (1973) Pattern Classification and Scene Analysis.\n",
      "     (Q327.D83) John Wiley & Sons.  ISBN 0-471-22361-1.  See page 218.\n",
      "   - Dasarathy, B.V. (1980) \"Nosing Around the Neighborhood: A New System\n",
      "     Structure and Classification Rule for Recognition in Partially Exposed\n",
      "     Environments\".  IEEE Transactions on Pattern Analysis and Machine\n",
      "     Intelligence, Vol. PAMI-2, No. 1, 67-71.\n",
      "   - Gates, G.W. (1972) \"The Reduced Nearest Neighbor Rule\".  IEEE Transactions\n",
      "     on Information Theory, May 1972, 431-433.\n",
      "   - See also: 1988 MLC Proceedings, 54-64.  Cheeseman et al\"s AUTOCLASS II\n",
      "     conceptual clustering system finds 3 classes in the data.\n",
      "   - Many, many more ...\n"
     ]
    }
   ],
   "source": [
    "print(iris.DESCR)"
   ]
  },
  {
   "cell_type": "code",
   "execution_count": 26,
   "metadata": {},
   "outputs": [],
   "source": [
    "X = iris['data'] # dados de cada flor\n",
    "Y = iris['target'] # código da classe de cada flor\n",
    "legenda_das_variaveis = iris['feature_names'] # nome das variáveis das flores\n",
    "classes = iris['target_names'] # nome das flores"
   ]
  },
  {
   "cell_type": "markdown",
   "metadata": {},
   "source": [
    "Podemos ver o que contem cada uma delas!"
   ]
  },
  {
   "cell_type": "code",
   "execution_count": 27,
   "metadata": {},
   "outputs": [
    {
     "name": "stdout",
     "output_type": "stream",
     "text": [
      "[[5.1 3.5 1.4 0.2]\n",
      " [7.  3.2 4.7 1.4]\n",
      " [6.3 3.3 6.  2.5]]\n",
      "[0 1 2]\n",
      "['sepal length (cm)', 'sepal width (cm)', 'petal length (cm)', 'petal width (cm)']\n",
      "['setosa' 'versicolor' 'virginica']\n"
     ]
    }
   ],
   "source": [
    "print(X[[0,50,100]])\n",
    "print(Y[[0,50,100]])\n",
    "print(legenda_das_variaveis)\n",
    "print(classes)"
   ]
  },
  {
   "cell_type": "markdown",
   "metadata": {},
   "source": [
    "Neste próximo passo introduz-se uma outra biblioteca muito importante na altura de tratarmos as bases de dados, o pandas.\n",
    "\n",
    "Com ele podemos tornar a nossa base de dados em algo mais comum para um aluno de secundário, uma tabela de dados numéricos e categóricos."
   ]
  },
  {
   "cell_type": "code",
   "execution_count": 28,
   "metadata": {},
   "outputs": [
    {
     "data": {
      "text/html": [
       "<div>\n",
       "<style scoped>\n",
       "    .dataframe tbody tr th:only-of-type {\n",
       "        vertical-align: middle;\n",
       "    }\n",
       "\n",
       "    .dataframe tbody tr th {\n",
       "        vertical-align: top;\n",
       "    }\n",
       "\n",
       "    .dataframe thead th {\n",
       "        text-align: right;\n",
       "    }\n",
       "</style>\n",
       "<table border=\"1\" class=\"dataframe\">\n",
       "  <thead>\n",
       "    <tr style=\"text-align: right;\">\n",
       "      <th></th>\n",
       "      <th>sepal length (cm)</th>\n",
       "      <th>sepal width (cm)</th>\n",
       "      <th>petal length (cm)</th>\n",
       "      <th>petal width (cm)</th>\n",
       "    </tr>\n",
       "  </thead>\n",
       "  <tbody>\n",
       "    <tr>\n",
       "      <th>0</th>\n",
       "      <td>5.1</td>\n",
       "      <td>3.5</td>\n",
       "      <td>1.4</td>\n",
       "      <td>0.2</td>\n",
       "    </tr>\n",
       "    <tr>\n",
       "      <th>1</th>\n",
       "      <td>4.9</td>\n",
       "      <td>3.0</td>\n",
       "      <td>1.4</td>\n",
       "      <td>0.2</td>\n",
       "    </tr>\n",
       "    <tr>\n",
       "      <th>2</th>\n",
       "      <td>4.7</td>\n",
       "      <td>3.2</td>\n",
       "      <td>1.3</td>\n",
       "      <td>0.2</td>\n",
       "    </tr>\n",
       "    <tr>\n",
       "      <th>3</th>\n",
       "      <td>4.6</td>\n",
       "      <td>3.1</td>\n",
       "      <td>1.5</td>\n",
       "      <td>0.2</td>\n",
       "    </tr>\n",
       "    <tr>\n",
       "      <th>4</th>\n",
       "      <td>5.0</td>\n",
       "      <td>3.6</td>\n",
       "      <td>1.4</td>\n",
       "      <td>0.2</td>\n",
       "    </tr>\n",
       "    <tr>\n",
       "      <th>...</th>\n",
       "      <td>...</td>\n",
       "      <td>...</td>\n",
       "      <td>...</td>\n",
       "      <td>...</td>\n",
       "    </tr>\n",
       "    <tr>\n",
       "      <th>145</th>\n",
       "      <td>6.7</td>\n",
       "      <td>3.0</td>\n",
       "      <td>5.2</td>\n",
       "      <td>2.3</td>\n",
       "    </tr>\n",
       "    <tr>\n",
       "      <th>146</th>\n",
       "      <td>6.3</td>\n",
       "      <td>2.5</td>\n",
       "      <td>5.0</td>\n",
       "      <td>1.9</td>\n",
       "    </tr>\n",
       "    <tr>\n",
       "      <th>147</th>\n",
       "      <td>6.5</td>\n",
       "      <td>3.0</td>\n",
       "      <td>5.2</td>\n",
       "      <td>2.0</td>\n",
       "    </tr>\n",
       "    <tr>\n",
       "      <th>148</th>\n",
       "      <td>6.2</td>\n",
       "      <td>3.4</td>\n",
       "      <td>5.4</td>\n",
       "      <td>2.3</td>\n",
       "    </tr>\n",
       "    <tr>\n",
       "      <th>149</th>\n",
       "      <td>5.9</td>\n",
       "      <td>3.0</td>\n",
       "      <td>5.1</td>\n",
       "      <td>1.8</td>\n",
       "    </tr>\n",
       "  </tbody>\n",
       "</table>\n",
       "<p>150 rows × 4 columns</p>\n",
       "</div>"
      ],
      "text/plain": [
       "     sepal length (cm)  sepal width (cm)  petal length (cm)  petal width (cm)\n",
       "0                  5.1               3.5                1.4               0.2\n",
       "1                  4.9               3.0                1.4               0.2\n",
       "2                  4.7               3.2                1.3               0.2\n",
       "3                  4.6               3.1                1.5               0.2\n",
       "4                  5.0               3.6                1.4               0.2\n",
       "..                 ...               ...                ...               ...\n",
       "145                6.7               3.0                5.2               2.3\n",
       "146                6.3               2.5                5.0               1.9\n",
       "147                6.5               3.0                5.2               2.0\n",
       "148                6.2               3.4                5.4               2.3\n",
       "149                5.9               3.0                5.1               1.8\n",
       "\n",
       "[150 rows x 4 columns]"
      ]
     },
     "execution_count": 28,
     "metadata": {},
     "output_type": "execute_result"
    }
   ],
   "source": [
    "import pandas as pd\n",
    "\n",
    "data=pd.DataFrame(X, columns=legenda_das_variaveis) # Criar o dataframe\n",
    "\n",
    "data"
   ]
  },
  {
   "cell_type": "code",
   "execution_count": 29,
   "metadata": {},
   "outputs": [
    {
     "data": {
      "text/html": [
       "<div>\n",
       "<style scoped>\n",
       "    .dataframe tbody tr th:only-of-type {\n",
       "        vertical-align: middle;\n",
       "    }\n",
       "\n",
       "    .dataframe tbody tr th {\n",
       "        vertical-align: top;\n",
       "    }\n",
       "\n",
       "    .dataframe thead th {\n",
       "        text-align: right;\n",
       "    }\n",
       "</style>\n",
       "<table border=\"1\" class=\"dataframe\">\n",
       "  <thead>\n",
       "    <tr style=\"text-align: right;\">\n",
       "      <th></th>\n",
       "      <th>sepal length (cm)</th>\n",
       "      <th>sepal width (cm)</th>\n",
       "      <th>petal length (cm)</th>\n",
       "      <th>petal width (cm)</th>\n",
       "      <th>Classe</th>\n",
       "    </tr>\n",
       "  </thead>\n",
       "  <tbody>\n",
       "    <tr>\n",
       "      <th>0</th>\n",
       "      <td>5.1</td>\n",
       "      <td>3.5</td>\n",
       "      <td>1.4</td>\n",
       "      <td>0.2</td>\n",
       "      <td>0</td>\n",
       "    </tr>\n",
       "    <tr>\n",
       "      <th>1</th>\n",
       "      <td>4.9</td>\n",
       "      <td>3.0</td>\n",
       "      <td>1.4</td>\n",
       "      <td>0.2</td>\n",
       "      <td>0</td>\n",
       "    </tr>\n",
       "    <tr>\n",
       "      <th>2</th>\n",
       "      <td>4.7</td>\n",
       "      <td>3.2</td>\n",
       "      <td>1.3</td>\n",
       "      <td>0.2</td>\n",
       "      <td>0</td>\n",
       "    </tr>\n",
       "    <tr>\n",
       "      <th>3</th>\n",
       "      <td>4.6</td>\n",
       "      <td>3.1</td>\n",
       "      <td>1.5</td>\n",
       "      <td>0.2</td>\n",
       "      <td>0</td>\n",
       "    </tr>\n",
       "    <tr>\n",
       "      <th>4</th>\n",
       "      <td>5.0</td>\n",
       "      <td>3.6</td>\n",
       "      <td>1.4</td>\n",
       "      <td>0.2</td>\n",
       "      <td>0</td>\n",
       "    </tr>\n",
       "    <tr>\n",
       "      <th>...</th>\n",
       "      <td>...</td>\n",
       "      <td>...</td>\n",
       "      <td>...</td>\n",
       "      <td>...</td>\n",
       "      <td>...</td>\n",
       "    </tr>\n",
       "    <tr>\n",
       "      <th>145</th>\n",
       "      <td>6.7</td>\n",
       "      <td>3.0</td>\n",
       "      <td>5.2</td>\n",
       "      <td>2.3</td>\n",
       "      <td>2</td>\n",
       "    </tr>\n",
       "    <tr>\n",
       "      <th>146</th>\n",
       "      <td>6.3</td>\n",
       "      <td>2.5</td>\n",
       "      <td>5.0</td>\n",
       "      <td>1.9</td>\n",
       "      <td>2</td>\n",
       "    </tr>\n",
       "    <tr>\n",
       "      <th>147</th>\n",
       "      <td>6.5</td>\n",
       "      <td>3.0</td>\n",
       "      <td>5.2</td>\n",
       "      <td>2.0</td>\n",
       "      <td>2</td>\n",
       "    </tr>\n",
       "    <tr>\n",
       "      <th>148</th>\n",
       "      <td>6.2</td>\n",
       "      <td>3.4</td>\n",
       "      <td>5.4</td>\n",
       "      <td>2.3</td>\n",
       "      <td>2</td>\n",
       "    </tr>\n",
       "    <tr>\n",
       "      <th>149</th>\n",
       "      <td>5.9</td>\n",
       "      <td>3.0</td>\n",
       "      <td>5.1</td>\n",
       "      <td>1.8</td>\n",
       "      <td>2</td>\n",
       "    </tr>\n",
       "  </tbody>\n",
       "</table>\n",
       "<p>150 rows × 5 columns</p>\n",
       "</div>"
      ],
      "text/plain": [
       "     sepal length (cm)  sepal width (cm)  petal length (cm)  petal width (cm)  \\\n",
       "0                  5.1               3.5                1.4               0.2   \n",
       "1                  4.9               3.0                1.4               0.2   \n",
       "2                  4.7               3.2                1.3               0.2   \n",
       "3                  4.6               3.1                1.5               0.2   \n",
       "4                  5.0               3.6                1.4               0.2   \n",
       "..                 ...               ...                ...               ...   \n",
       "145                6.7               3.0                5.2               2.3   \n",
       "146                6.3               2.5                5.0               1.9   \n",
       "147                6.5               3.0                5.2               2.0   \n",
       "148                6.2               3.4                5.4               2.3   \n",
       "149                5.9               3.0                5.1               1.8   \n",
       "\n",
       "     Classe  \n",
       "0         0  \n",
       "1         0  \n",
       "2         0  \n",
       "3         0  \n",
       "4         0  \n",
       "..      ...  \n",
       "145       2  \n",
       "146       2  \n",
       "147       2  \n",
       "148       2  \n",
       "149       2  \n",
       "\n",
       "[150 rows x 5 columns]"
      ]
     },
     "execution_count": 29,
     "metadata": {},
     "output_type": "execute_result"
    }
   ],
   "source": [
    "data['Classe']=Y # Anexar a Classe das flores a cada uma\n",
    "data"
   ]
  },
  {
   "cell_type": "code",
   "execution_count": 31,
   "metadata": {},
   "outputs": [
    {
     "data": {
      "text/html": [
       "<div>\n",
       "<style scoped>\n",
       "    .dataframe tbody tr th:only-of-type {\n",
       "        vertical-align: middle;\n",
       "    }\n",
       "\n",
       "    .dataframe tbody tr th {\n",
       "        vertical-align: top;\n",
       "    }\n",
       "\n",
       "    .dataframe thead th {\n",
       "        text-align: right;\n",
       "    }\n",
       "</style>\n",
       "<table border=\"1\" class=\"dataframe\">\n",
       "  <thead>\n",
       "    <tr style=\"text-align: right;\">\n",
       "      <th></th>\n",
       "      <th>sepal length (cm)</th>\n",
       "      <th>sepal width (cm)</th>\n",
       "      <th>petal length (cm)</th>\n",
       "      <th>petal width (cm)</th>\n",
       "      <th>Classe</th>\n",
       "    </tr>\n",
       "  </thead>\n",
       "  <tbody>\n",
       "    <tr>\n",
       "      <th>0</th>\n",
       "      <td>5.1</td>\n",
       "      <td>3.5</td>\n",
       "      <td>1.4</td>\n",
       "      <td>0.2</td>\n",
       "      <td>setosa</td>\n",
       "    </tr>\n",
       "    <tr>\n",
       "      <th>1</th>\n",
       "      <td>4.9</td>\n",
       "      <td>3.0</td>\n",
       "      <td>1.4</td>\n",
       "      <td>0.2</td>\n",
       "      <td>setosa</td>\n",
       "    </tr>\n",
       "    <tr>\n",
       "      <th>2</th>\n",
       "      <td>4.7</td>\n",
       "      <td>3.2</td>\n",
       "      <td>1.3</td>\n",
       "      <td>0.2</td>\n",
       "      <td>setosa</td>\n",
       "    </tr>\n",
       "    <tr>\n",
       "      <th>3</th>\n",
       "      <td>4.6</td>\n",
       "      <td>3.1</td>\n",
       "      <td>1.5</td>\n",
       "      <td>0.2</td>\n",
       "      <td>setosa</td>\n",
       "    </tr>\n",
       "    <tr>\n",
       "      <th>4</th>\n",
       "      <td>5.0</td>\n",
       "      <td>3.6</td>\n",
       "      <td>1.4</td>\n",
       "      <td>0.2</td>\n",
       "      <td>setosa</td>\n",
       "    </tr>\n",
       "    <tr>\n",
       "      <th>...</th>\n",
       "      <td>...</td>\n",
       "      <td>...</td>\n",
       "      <td>...</td>\n",
       "      <td>...</td>\n",
       "      <td>...</td>\n",
       "    </tr>\n",
       "    <tr>\n",
       "      <th>145</th>\n",
       "      <td>6.7</td>\n",
       "      <td>3.0</td>\n",
       "      <td>5.2</td>\n",
       "      <td>2.3</td>\n",
       "      <td>virginica</td>\n",
       "    </tr>\n",
       "    <tr>\n",
       "      <th>146</th>\n",
       "      <td>6.3</td>\n",
       "      <td>2.5</td>\n",
       "      <td>5.0</td>\n",
       "      <td>1.9</td>\n",
       "      <td>virginica</td>\n",
       "    </tr>\n",
       "    <tr>\n",
       "      <th>147</th>\n",
       "      <td>6.5</td>\n",
       "      <td>3.0</td>\n",
       "      <td>5.2</td>\n",
       "      <td>2.0</td>\n",
       "      <td>virginica</td>\n",
       "    </tr>\n",
       "    <tr>\n",
       "      <th>148</th>\n",
       "      <td>6.2</td>\n",
       "      <td>3.4</td>\n",
       "      <td>5.4</td>\n",
       "      <td>2.3</td>\n",
       "      <td>virginica</td>\n",
       "    </tr>\n",
       "    <tr>\n",
       "      <th>149</th>\n",
       "      <td>5.9</td>\n",
       "      <td>3.0</td>\n",
       "      <td>5.1</td>\n",
       "      <td>1.8</td>\n",
       "      <td>virginica</td>\n",
       "    </tr>\n",
       "  </tbody>\n",
       "</table>\n",
       "<p>150 rows × 5 columns</p>\n",
       "</div>"
      ],
      "text/plain": [
       "     sepal length (cm)  sepal width (cm)  petal length (cm)  petal width (cm)  \\\n",
       "0                  5.1               3.5                1.4               0.2   \n",
       "1                  4.9               3.0                1.4               0.2   \n",
       "2                  4.7               3.2                1.3               0.2   \n",
       "3                  4.6               3.1                1.5               0.2   \n",
       "4                  5.0               3.6                1.4               0.2   \n",
       "..                 ...               ...                ...               ...   \n",
       "145                6.7               3.0                5.2               2.3   \n",
       "146                6.3               2.5                5.0               1.9   \n",
       "147                6.5               3.0                5.2               2.0   \n",
       "148                6.2               3.4                5.4               2.3   \n",
       "149                5.9               3.0                5.1               1.8   \n",
       "\n",
       "        Classe  \n",
       "0       setosa  \n",
       "1       setosa  \n",
       "2       setosa  \n",
       "3       setosa  \n",
       "4       setosa  \n",
       "..         ...  \n",
       "145  virginica  \n",
       "146  virginica  \n",
       "147  virginica  \n",
       "148  virginica  \n",
       "149  virginica  \n",
       "\n",
       "[150 rows x 5 columns]"
      ]
     },
     "execution_count": 31,
     "metadata": {},
     "output_type": "execute_result"
    }
   ],
   "source": [
    "data_new = data.copy()\n",
    "data_new['Classe']=data['Classe'].replace([0,1,2],classes) # Substituir em vez de números, os nomes das iris.\n",
    "data_new"
   ]
  },
  {
   "cell_type": "markdown",
   "metadata": {},
   "source": [
    "Por fim, uma simples utilização do matplotlib."
   ]
  },
  {
   "cell_type": "code",
   "execution_count": 32,
   "metadata": {},
   "outputs": [
    {
     "data": {
      "image/png": "[encoded data removed]",
      "text/plain": [
       "<Figure size 432x288 with 1 Axes>"
      ]
     },
     "metadata": {
      "needs_background": "light"
     },
     "output_type": "display_data"
    },
    {
     "data": {
      "image/png": "[encoded data removed]",
      "text/plain": [
       "<Figure size 432x288 with 1 Axes>"
      ]
     },
     "metadata": {
      "needs_background": "light"
     },
     "output_type": "display_data"
    }
   ],
   "source": [
    "\n",
    "for i in range(4):\n",
    "    plt.hist(X[:,i],label=legenda_das_variaveis[i])\n",
    "plt.legend()\n",
    "plt.show()\n",
    "\n",
    "plt.hist(X, label=legenda_das_variaveis)\n",
    "plt.legend()\n",
    "plt.show()"
   ]
  },
  {
   "cell_type": "markdown",
   "metadata": {},
   "source": [
    "O pandas em cima também tem visualização. Pesquisem por pandas visualization."
   ]
  },
  {
   "cell_type": "code",
   "execution_count": 33,
   "metadata": {},
   "outputs": [
    {
     "data": {
      "text/plain": [
       "<matplotlib.axes._subplots.AxesSubplot at 0x677f6b8>"
      ]
     },
     "execution_count": 33,
     "metadata": {},
     "output_type": "execute_result"
    },
    {
     "data": {
      "image/png": "[encoded data removed]",
      "text/plain": [
       "<Figure size 432x288 with 1 Axes>"
      ]
     },
     "metadata": {
      "needs_background": "light"
     },
     "output_type": "display_data"
    }
   ],
   "source": [
    "data_new.plot()"
   ]
  },
  {
   "cell_type": "markdown",
   "metadata": {},
   "source": [
    "Uma outra ferramenta excelente do pandas é a possibilidade de separar (agrupar) os dados por Classe."
   ]
  },
  {
   "cell_type": "code",
   "execution_count": 60,
   "metadata": {},
   "outputs": [
    {
     "data": {
      "text/plain": [
       "[('setosa',\n",
       "      sepal length (cm)  sepal width (cm)  petal length (cm)  petal width (cm)  \\\n",
       "  0                 5.1               3.5                1.4               0.2   \n",
       "  1                 4.9               3.0                1.4               0.2   \n",
       "  2                 4.7               3.2                1.3               0.2   \n",
       "  3                 4.6               3.1                1.5               0.2   \n",
       "  4                 5.0               3.6                1.4               0.2   \n",
       "  5                 5.4               3.9                1.7               0.4   \n",
       "  6                 4.6               3.4                1.4               0.3   \n",
       "  7                 5.0               3.4                1.5               0.2   \n",
       "  8                 4.4               2.9                1.4               0.2   \n",
       "  9                 4.9               3.1                1.5               0.1   \n",
       "  10                5.4               3.7                1.5               0.2   \n",
       "  11                4.8               3.4                1.6               0.2   \n",
       "  12                4.8               3.0                1.4               0.1   \n",
       "  13                4.3               3.0                1.1               0.1   \n",
       "  14                5.8               4.0                1.2               0.2   \n",
       "  15                5.7               4.4                1.5               0.4   \n",
       "  16                5.4               3.9                1.3               0.4   \n",
       "  17                5.1               3.5                1.4               0.3   \n",
       "  18                5.7               3.8                1.7               0.3   \n",
       "  19                5.1               3.8                1.5               0.3   \n",
       "  20                5.4               3.4                1.7               0.2   \n",
       "  21                5.1               3.7                1.5               0.4   \n",
       "  22                4.6               3.6                1.0               0.2   \n",
       "  23                5.1               3.3                1.7               0.5   \n",
       "  24                4.8               3.4                1.9               0.2   \n",
       "  25                5.0               3.0                1.6               0.2   \n",
       "  26                5.0               3.4                1.6               0.4   \n",
       "  27                5.2               3.5                1.5               0.2   \n",
       "  28                5.2               3.4                1.4               0.2   \n",
       "  29                4.7               3.2                1.6               0.2   \n",
       "  30                4.8               3.1                1.6               0.2   \n",
       "  31                5.4               3.4                1.5               0.4   \n",
       "  32                5.2               4.1                1.5               0.1   \n",
       "  33                5.5               4.2                1.4               0.2   \n",
       "  34                4.9               3.1                1.5               0.2   \n",
       "  35                5.0               3.2                1.2               0.2   \n",
       "  36                5.5               3.5                1.3               0.2   \n",
       "  37                4.9               3.6                1.4               0.1   \n",
       "  38                4.4               3.0                1.3               0.2   \n",
       "  39                5.1               3.4                1.5               0.2   \n",
       "  40                5.0               3.5                1.3               0.3   \n",
       "  41                4.5               2.3                1.3               0.3   \n",
       "  42                4.4               3.2                1.3               0.2   \n",
       "  43                5.0               3.5                1.6               0.6   \n",
       "  44                5.1               3.8                1.9               0.4   \n",
       "  45                4.8               3.0                1.4               0.3   \n",
       "  46                5.1               3.8                1.6               0.2   \n",
       "  47                4.6               3.2                1.4               0.2   \n",
       "  48                5.3               3.7                1.5               0.2   \n",
       "  49                5.0               3.3                1.4               0.2   \n",
       "  \n",
       "      Classe  \n",
       "  0   setosa  \n",
       "  1   setosa  \n",
       "  2   setosa  \n",
       "  3   setosa  \n",
       "  4   setosa  \n",
       "  5   setosa  \n",
       "  6   setosa  \n",
       "  7   setosa  \n",
       "  8   setosa  \n",
       "  9   setosa  \n",
       "  10  setosa  \n",
       "  11  setosa  \n",
       "  12  setosa  \n",
       "  13  setosa  \n",
       "  14  setosa  \n",
       "  15  setosa  \n",
       "  16  setosa  \n",
       "  17  setosa  \n",
       "  18  setosa  \n",
       "  19  setosa  \n",
       "  20  setosa  \n",
       "  21  setosa  \n",
       "  22  setosa  \n",
       "  23  setosa  \n",
       "  24  setosa  \n",
       "  25  setosa  \n",
       "  26  setosa  \n",
       "  27  setosa  \n",
       "  28  setosa  \n",
       "  29  setosa  \n",
       "  30  setosa  \n",
       "  31  setosa  \n",
       "  32  setosa  \n",
       "  33  setosa  \n",
       "  34  setosa  \n",
       "  35  setosa  \n",
       "  36  setosa  \n",
       "  37  setosa  \n",
       "  38  setosa  \n",
       "  39  setosa  \n",
       "  40  setosa  \n",
       "  41  setosa  \n",
       "  42  setosa  \n",
       "  43  setosa  \n",
       "  44  setosa  \n",
       "  45  setosa  \n",
       "  46  setosa  \n",
       "  47  setosa  \n",
       "  48  setosa  \n",
       "  49  setosa  ),\n",
       " ('versicolor',\n",
       "      sepal length (cm)  sepal width (cm)  petal length (cm)  petal width (cm)  \\\n",
       "  50                7.0               3.2                4.7               1.4   \n",
       "  51                6.4               3.2                4.5               1.5   \n",
       "  52                6.9               3.1                4.9               1.5   \n",
       "  53                5.5               2.3                4.0               1.3   \n",
       "  54                6.5               2.8                4.6               1.5   \n",
       "  55                5.7               2.8                4.5               1.3   \n",
       "  56                6.3               3.3                4.7               1.6   \n",
       "  57                4.9               2.4                3.3               1.0   \n",
       "  58                6.6               2.9                4.6               1.3   \n",
       "  59                5.2               2.7                3.9               1.4   \n",
       "  60                5.0               2.0                3.5               1.0   \n",
       "  61                5.9               3.0                4.2               1.5   \n",
       "  62                6.0               2.2                4.0               1.0   \n",
       "  63                6.1               2.9                4.7               1.4   \n",
       "  64                5.6               2.9                3.6               1.3   \n",
       "  65                6.7               3.1                4.4               1.4   \n",
       "  66                5.6               3.0                4.5               1.5   \n",
       "  67                5.8               2.7                4.1               1.0   \n",
       "  68                6.2               2.2                4.5               1.5   \n",
       "  69                5.6               2.5                3.9               1.1   \n",
       "  70                5.9               3.2                4.8               1.8   \n",
       "  71                6.1               2.8                4.0               1.3   \n",
       "  72                6.3               2.5                4.9               1.5   \n",
       "  73                6.1               2.8                4.7               1.2   \n",
       "  74                6.4               2.9                4.3               1.3   \n",
       "  75                6.6               3.0                4.4               1.4   \n",
       "  76                6.8               2.8                4.8               1.4   \n",
       "  77                6.7               3.0                5.0               1.7   \n",
       "  78                6.0               2.9                4.5               1.5   \n",
       "  79                5.7               2.6                3.5               1.0   \n",
       "  80                5.5               2.4                3.8               1.1   \n",
       "  81                5.5               2.4                3.7               1.0   \n",
       "  82                5.8               2.7                3.9               1.2   \n",
       "  83                6.0               2.7                5.1               1.6   \n",
       "  84                5.4               3.0                4.5               1.5   \n",
       "  85                6.0               3.4                4.5               1.6   \n",
       "  86                6.7               3.1                4.7               1.5   \n",
       "  87                6.3               2.3                4.4               1.3   \n",
       "  88                5.6               3.0                4.1               1.3   \n",
       "  89                5.5               2.5                4.0               1.3   \n",
       "  90                5.5               2.6                4.4               1.2   \n",
       "  91                6.1               3.0                4.6               1.4   \n",
       "  92                5.8               2.6                4.0               1.2   \n",
       "  93                5.0               2.3                3.3               1.0   \n",
       "  94                5.6               2.7                4.2               1.3   \n",
       "  95                5.7               3.0                4.2               1.2   \n",
       "  96                5.7               2.9                4.2               1.3   \n",
       "  97                6.2               2.9                4.3               1.3   \n",
       "  98                5.1               2.5                3.0               1.1   \n",
       "  99                5.7               2.8                4.1               1.3   \n",
       "  \n",
       "          Classe  \n",
       "  50  versicolor  \n",
       "  51  versicolor  \n",
       "  52  versicolor  \n",
       "  53  versicolor  \n",
       "  54  versicolor  \n",
       "  55  versicolor  \n",
       "  56  versicolor  \n",
       "  57  versicolor  \n",
       "  58  versicolor  \n",
       "  59  versicolor  \n",
       "  60  versicolor  \n",
       "  61  versicolor  \n",
       "  62  versicolor  \n",
       "  63  versicolor  \n",
       "  64  versicolor  \n",
       "  65  versicolor  \n",
       "  66  versicolor  \n",
       "  67  versicolor  \n",
       "  68  versicolor  \n",
       "  69  versicolor  \n",
       "  70  versicolor  \n",
       "  71  versicolor  \n",
       "  72  versicolor  \n",
       "  73  versicolor  \n",
       "  74  versicolor  \n",
       "  75  versicolor  \n",
       "  76  versicolor  \n",
       "  77  versicolor  \n",
       "  78  versicolor  \n",
       "  79  versicolor  \n",
       "  80  versicolor  \n",
       "  81  versicolor  \n",
       "  82  versicolor  \n",
       "  83  versicolor  \n",
       "  84  versicolor  \n",
       "  85  versicolor  \n",
       "  86  versicolor  \n",
       "  87  versicolor  \n",
       "  88  versicolor  \n",
       "  89  versicolor  \n",
       "  90  versicolor  \n",
       "  91  versicolor  \n",
       "  92  versicolor  \n",
       "  93  versicolor  \n",
       "  94  versicolor  \n",
       "  95  versicolor  \n",
       "  96  versicolor  \n",
       "  97  versicolor  \n",
       "  98  versicolor  \n",
       "  99  versicolor  ),\n",
       " ('virginica',\n",
       "       sepal length (cm)  sepal width (cm)  petal length (cm)  petal width (cm)  \\\n",
       "  100                6.3               3.3                6.0               2.5   \n",
       "  101                5.8               2.7                5.1               1.9   \n",
       "  102                7.1               3.0                5.9               2.1   \n",
       "  103                6.3               2.9                5.6               1.8   \n",
       "  104                6.5               3.0                5.8               2.2   \n",
       "  105                7.6               3.0                6.6               2.1   \n",
       "  106                4.9               2.5                4.5               1.7   \n",
       "  107                7.3               2.9                6.3               1.8   \n",
       "  108                6.7               2.5                5.8               1.8   \n",
       "  109                7.2               3.6                6.1               2.5   \n",
       "  110                6.5               3.2                5.1               2.0   \n",
       "  111                6.4               2.7                5.3               1.9   \n",
       "  112                6.8               3.0                5.5               2.1   \n",
       "  113                5.7               2.5                5.0               2.0   \n",
       "  114                5.8               2.8                5.1               2.4   \n",
       "  115                6.4               3.2                5.3               2.3   \n",
       "  116                6.5               3.0                5.5               1.8   \n",
       "  117                7.7               3.8                6.7               2.2   \n",
       "  118                7.7               2.6                6.9               2.3   \n",
       "  119                6.0               2.2                5.0               1.5   \n",
       "  120                6.9               3.2                5.7               2.3   \n",
       "  121                5.6               2.8                4.9               2.0   \n",
       "  122                7.7               2.8                6.7               2.0   \n",
       "  123                6.3               2.7                4.9               1.8   \n",
       "  124                6.7               3.3                5.7               2.1   \n",
       "  125                7.2               3.2                6.0               1.8   \n",
       "  126                6.2               2.8                4.8               1.8   \n",
       "  127                6.1               3.0                4.9               1.8   \n",
       "  128                6.4               2.8                5.6               2.1   \n",
       "  129                7.2               3.0                5.8               1.6   \n",
       "  130                7.4               2.8                6.1               1.9   \n",
       "  131                7.9               3.8                6.4               2.0   \n",
       "  132                6.4               2.8                5.6               2.2   \n",
       "  133                6.3               2.8                5.1               1.5   \n",
       "  134                6.1               2.6                5.6               1.4   \n",
       "  135                7.7               3.0                6.1               2.3   \n",
       "  136                6.3               3.4                5.6               2.4   \n",
       "  137                6.4               3.1                5.5               1.8   \n",
       "  138                6.0               3.0                4.8               1.8   \n",
       "  139                6.9               3.1                5.4               2.1   \n",
       "  140                6.7               3.1                5.6               2.4   \n",
       "  141                6.9               3.1                5.1               2.3   \n",
       "  142                5.8               2.7                5.1               1.9   \n",
       "  143                6.8               3.2                5.9               2.3   \n",
       "  144                6.7               3.3                5.7               2.5   \n",
       "  145                6.7               3.0                5.2               2.3   \n",
       "  146                6.3               2.5                5.0               1.9   \n",
       "  147                6.5               3.0                5.2               2.0   \n",
       "  148                6.2               3.4                5.4               2.3   \n",
       "  149                5.9               3.0                5.1               1.8   \n",
       "  \n",
       "          Classe  \n",
       "  100  virginica  \n",
       "  101  virginica  \n",
       "  102  virginica  \n",
       "  103  virginica  \n",
       "  104  virginica  \n",
       "  105  virginica  \n",
       "  106  virginica  \n",
       "  107  virginica  \n",
       "  108  virginica  \n",
       "  109  virginica  \n",
       "  110  virginica  \n",
       "  111  virginica  \n",
       "  112  virginica  \n",
       "  113  virginica  \n",
       "  114  virginica  \n",
       "  115  virginica  \n",
       "  116  virginica  \n",
       "  117  virginica  \n",
       "  118  virginica  \n",
       "  119  virginica  \n",
       "  120  virginica  \n",
       "  121  virginica  \n",
       "  122  virginica  \n",
       "  123  virginica  \n",
       "  124  virginica  \n",
       "  125  virginica  \n",
       "  126  virginica  \n",
       "  127  virginica  \n",
       "  128  virginica  \n",
       "  129  virginica  \n",
       "  130  virginica  \n",
       "  131  virginica  \n",
       "  132  virginica  \n",
       "  133  virginica  \n",
       "  134  virginica  \n",
       "  135  virginica  \n",
       "  136  virginica  \n",
       "  137  virginica  \n",
       "  138  virginica  \n",
       "  139  virginica  \n",
       "  140  virginica  \n",
       "  141  virginica  \n",
       "  142  virginica  \n",
       "  143  virginica  \n",
       "  144  virginica  \n",
       "  145  virginica  \n",
       "  146  virginica  \n",
       "  147  virginica  \n",
       "  148  virginica  \n",
       "  149  virginica  )]"
      ]
     },
     "execution_count": 60,
     "metadata": {},
     "output_type": "execute_result"
    }
   ],
   "source": [
    "data_group=data_new.groupby('Classe')\n",
    "\n",
    "list(data_group)"
   ]
  },
  {
   "cell_type": "code",
   "execution_count": 97,
   "metadata": {},
   "outputs": [
    {
     "data": {
      "text/plain": [
       "setosa             AxesSubplot(0.1,0.559091;0.363636x0.340909)\n",
       "versicolor    AxesSubplot(0.536364,0.559091;0.363636x0.340909)\n",
       "virginica              AxesSubplot(0.1,0.15;0.363636x0.340909)\n",
       "dtype: object"
      ]
     },
     "execution_count": 97,
     "metadata": {},
     "output_type": "execute_result"
    },
    {
     "data": {
      "image/png": "[encoded data removed]",
      "text/plain": [
       "<Figure size 1080x1080 with 4 Axes>"
      ]
     },
     "metadata": {
      "needs_background": "light"
     },
     "output_type": "display_data"
    }
   ],
   "source": [
    "data_group.boxplot(figsize=(15,15))"
   ]
  },
  {
   "cell_type": "markdown",
   "metadata": {},
   "source": [
    "Uma pequena demonstração das várias maneiras de fazer um scatterplot"
   ]
  },
  {
   "cell_type": "code",
   "execution_count": 98,
   "metadata": {},
   "outputs": [
    {
     "data": {
      "image/png": "[encoded data removed]",
      "text/plain": [
       "<Figure size 432x288 with 1 Axes>"
      ]
     },
     "metadata": {
      "needs_background": "light"
     },
     "output_type": "display_data"
    }
   ],
   "source": [
    "for name,group in data_group:\n",
    "    plt.plot(group['sepal length (cm)'],group['sepal width (cm)'],marker='o',linestyle='',label=name)\n",
    "plt.show()"
   ]
  },
  {
   "cell_type": "code",
   "execution_count": 90,
   "metadata": {},
   "outputs": [
    {
     "data": {
      "image/png": "[encoded data removed]",
      "text/plain": [
       "<Figure size 504x504 with 1 Axes>"
      ]
     },
     "metadata": {
      "needs_background": "light"
     },
     "output_type": "display_data"
    }
   ],
   "source": [
    "fig, ax = plt.subplots(figsize=(7,7))\n",
    "colors = ['r','g','b']\n",
    "for i,(name, group) in enumerate(data_group):\n",
    "    group.plot.scatter(ax=ax,x='sepal length (cm)',y='petal length (cm)', label=name,color=colors[i])"
   ]
  },
  {
   "cell_type": "code",
   "execution_count": 89,
   "metadata": {},
   "outputs": [
    {
     "data": {
      "text/plain": [
       "<matplotlib.axes._subplots.AxesSubplot at 0x211e00d0>"
      ]
     },
     "execution_count": 89,
     "metadata": {},
     "output_type": "execute_result"
    },
    {
     "data": {
      "image/png": "[encoded data removed]",
      "text/plain": [
       "<Figure size 432x288 with 1 Axes>"
      ]
     },
     "metadata": {
      "needs_background": "light"
     },
     "output_type": "display_data"
    }
   ],
   "source": [
    "import seaborn as sns\n",
    "\n",
    "sns.scatterplot(x='sepal length (cm)',y='petal length (cm)',data=data_new,hue='Classe')"
   ]
  }
 ],
 "metadata": {
  "kernelspec": {
   "display_name": "Python 3.8.1 32-bit",
   "language": "python",
   "name": "python38132bite9d949faaeb14d1fa03972db6b720333"
  },
  "language_info": {
   "codemirror_mode": {
    "name": "ipython",
    "version": 3
   },
   "file_extension": ".py",
   "mimetype": "text/x-python",
   "name": "python",
   "nbconvert_exporter": "python",
   "pygments_lexer": "ipython3",
   "version": "3.8.1"
  }
 },
 "nbformat": 4,
 "nbformat_minor": 4
}
